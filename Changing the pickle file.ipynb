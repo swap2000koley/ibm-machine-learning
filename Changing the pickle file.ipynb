{
 "cells": [
  {
   "cell_type": "code",
   "execution_count": 1,
   "id": "446cc4d7",
   "metadata": {},
   "outputs": [],
   "source": [
    "%matplotlib inline\n",
    "\n",
    "import sys\n",
    "import os\n",
    "import copy\n",
    "import random\n",
    "import datetime\n",
    "\n",
    "import numpy as np\n",
    "import pickle\n",
    "import glob\n",
    "from tqdm import tqdm\n",
    "from PIL import Image\n",
    "import torch\n",
    "import matplotlib.pyplot as plt\n",
    "import torchvision.transforms as transforms\n",
    "from torch import optim\n",
    "from pycocotools.coco import COCO"
   ]
  },
  {
   "cell_type": "code",
   "execution_count": 3,
   "id": "ecc698ed",
   "metadata": {},
   "outputs": [],
   "source": [
    "# classとclassの色の呼び出し\n",
    "with open('./data/t_class_name.txt', 'rb') as f:\n",
    "    t_class_name = pickle.load(f)\n",
    "with open('./data/t_color.txt', 'rb') as f:\n",
    "    t_color = pickle.load(f)"
   ]
  },
  {
   "cell_type": "code",
   "execution_count": 4,
   "id": "1953fd3e",
   "metadata": {},
   "outputs": [
    {
     "data": {
      "text/plain": [
       "['person',\n",
       " 'bicycle',\n",
       " 'car',\n",
       " 'motorcycle',\n",
       " 'airplane',\n",
       " 'bus',\n",
       " 'train',\n",
       " 'truck',\n",
       " 'boat',\n",
       " 'traffic light',\n",
       " 'fire hydrant',\n",
       " 'stop sign',\n",
       " 'parking meter',\n",
       " 'bench',\n",
       " 'bird',\n",
       " 'cat',\n",
       " 'dog',\n",
       " 'horse',\n",
       " 'sheep',\n",
       " 'cow',\n",
       " 'elephant',\n",
       " 'bear',\n",
       " 'zebra',\n",
       " 'giraffe',\n",
       " 'backpack',\n",
       " 'umbrella',\n",
       " 'handbag',\n",
       " 'tie',\n",
       " 'suitcase',\n",
       " 'frisbee',\n",
       " 'skis',\n",
       " 'snowboard',\n",
       " 'sports ball',\n",
       " 'kite',\n",
       " 'baseball bat',\n",
       " 'baseball glove',\n",
       " 'skateboard',\n",
       " 'surfboard',\n",
       " 'tennis racket',\n",
       " 'bottle',\n",
       " 'wine glass',\n",
       " 'cup',\n",
       " 'fork',\n",
       " 'knife',\n",
       " 'spoon',\n",
       " 'bowl',\n",
       " 'banana',\n",
       " 'apple',\n",
       " 'sandwich',\n",
       " 'orange',\n",
       " 'broccoli',\n",
       " 'carrot',\n",
       " 'hot dog',\n",
       " 'pizza',\n",
       " 'donut',\n",
       " 'cake',\n",
       " 'chair',\n",
       " 'couch',\n",
       " 'potted plant',\n",
       " 'bed',\n",
       " 'dining table',\n",
       " 'toilet',\n",
       " 'tv',\n",
       " 'laptop',\n",
       " 'mouse',\n",
       " 'remote',\n",
       " 'keyboard',\n",
       " 'cell phone',\n",
       " 'microwave',\n",
       " 'oven',\n",
       " 'toaster',\n",
       " 'sink',\n",
       " 'refrigerator',\n",
       " 'book',\n",
       " 'clock',\n",
       " 'vase',\n",
       " 'scissors',\n",
       " 'teddy bear',\n",
       " 'hair drier',\n",
       " 'toothbrush',\n",
       " 'back']"
      ]
     },
     "execution_count": 4,
     "metadata": {},
     "output_type": "execute_result"
    }
   ],
   "source": [
    "t_class_name"
   ]
  },
  {
   "cell_type": "code",
   "execution_count": 5,
   "id": "7833a531",
   "metadata": {},
   "outputs": [
    {
     "data": {
      "text/plain": [
       "[array([156,  43, 238]),\n",
       " array([149, 240,  97]),\n",
       " array([177, 231, 125]),\n",
       " array([252,  84, 204]),\n",
       " array([196,  18,   4]),\n",
       " array([ 20, 111, 130]),\n",
       " array([189, 246, 109]),\n",
       " array([ 16,  35, 155]),\n",
       " array([132,  19, 115]),\n",
       " array([193,  64, 245]),\n",
       " array([ 47,  38, 201]),\n",
       " array([243,  76, 115]),\n",
       " array([250, 231,  29]),\n",
       " array([140,   4, 159]),\n",
       " array([212, 160,  32]),\n",
       " array([ 31, 252, 115]),\n",
       " array([143, 250, 186]),\n",
       " array([ 52, 161, 181]),\n",
       " array([  6, 160,  85]),\n",
       " array([ 53, 161,  45]),\n",
       " array([220, 233,   6]),\n",
       " array([ 93, 197,  68]),\n",
       " array([ 15,  59, 106]),\n",
       " array([ 34,  64, 224]),\n",
       " array([  3, 123, 237]),\n",
       " array([154, 125,  76]),\n",
       " array([ 92,  20, 216]),\n",
       " array([ 28, 124, 212]),\n",
       " array([ 15, 132, 119]),\n",
       " array([195,  34,  81]),\n",
       " array([ 43, 108, 199]),\n",
       " array([ 34, 185, 227]),\n",
       " array([ 64, 114, 211]),\n",
       " array([237, 183,  57]),\n",
       " array([250,  48, 204]),\n",
       " array([  1, 223, 130]),\n",
       " array([ 14, 187, 119]),\n",
       " array([118, 195, 123]),\n",
       " array([213,  45,  92]),\n",
       " array([ 42,  86, 241]),\n",
       " array([138, 171, 172]),\n",
       " array([ 27, 136, 124]),\n",
       " array([214,  58, 213]),\n",
       " array([119, 128, 160]),\n",
       " array([ 28, 154,  57]),\n",
       " array([ 97, 187, 171]),\n",
       " array([69, 12, 35]),\n",
       " array([ 19,  77, 193]),\n",
       " array([106,  86, 246]),\n",
       " array([89, 43, 60]),\n",
       " array([250, 195, 241]),\n",
       " array([170,  58,  48]),\n",
       " array([125, 240, 121]),\n",
       " array([188, 140,  82]),\n",
       " array([108,  82,  13]),\n",
       " array([ 43, 177, 187]),\n",
       " array([148, 135, 119]),\n",
       " array([209, 245,  55]),\n",
       " array([130, 201, 196]),\n",
       " array([222,   8, 136]),\n",
       " array([116, 164,  12]),\n",
       " array([ 28, 115, 225]),\n",
       " array([ 66,  47, 142]),\n",
       " array([127,  37, 224]),\n",
       " array([ 11, 236, 230]),\n",
       " array([124,  32, 216]),\n",
       " array([ 21,  45, 168]),\n",
       " array([115,  45, 106]),\n",
       " array([ 52, 132,  99]),\n",
       " array([145,  44,   4]),\n",
       " array([110,  93, 187]),\n",
       " array([181, 237,  18]),\n",
       " array([114, 173,  31]),\n",
       " array([178, 168,  30]),\n",
       " array([139,  99, 120]),\n",
       " array([211, 181, 173]),\n",
       " array([233,  67, 113]),\n",
       " array([ 88, 253,  84]),\n",
       " array([80, 85, 69]),\n",
       " array([ 55, 208,  56]),\n",
       " array([0, 0, 0])]"
      ]
     },
     "execution_count": 5,
     "metadata": {},
     "output_type": "execute_result"
    }
   ],
   "source": [
    "t_color"
   ]
  },
  {
   "cell_type": "code",
   "execution_count": 6,
   "id": "674feb83",
   "metadata": {},
   "outputs": [
    {
     "data": {
      "text/plain": [
       "True"
      ]
     },
     "execution_count": 6,
     "metadata": {},
     "output_type": "execute_result"
    }
   ],
   "source": [
    "len(t_class_name) == len(t_color)"
   ]
  },
  {
   "cell_type": "code",
   "execution_count": 7,
   "id": "5d43d869",
   "metadata": {},
   "outputs": [],
   "source": [
    "doc_class_name = ['Background', 'TextRegion', 'ImageRegion', 'TableRegion', 'MathsRegion', 'SeparatorRegion', 'OtherRegion']"
   ]
  },
  {
   "cell_type": "code",
   "execution_count": 9,
   "id": "c6807399",
   "metadata": {},
   "outputs": [
    {
     "data": {
      "text/plain": [
       "[array([156,  43, 238]),\n",
       " array([149, 240,  97]),\n",
       " array([177, 231, 125]),\n",
       " array([252,  84, 204]),\n",
       " array([196,  18,   4]),\n",
       " array([ 20, 111, 130]),\n",
       " array([189, 246, 109])]"
      ]
     },
     "execution_count": 9,
     "metadata": {},
     "output_type": "execute_result"
    }
   ],
   "source": [
    "doc_cls_color = t_color[0:7]\n",
    "doc_cls_color"
   ]
  },
  {
   "cell_type": "code",
   "execution_count": 10,
   "id": "c5efdabe",
   "metadata": {},
   "outputs": [
    {
     "data": {
      "text/plain": [
       "True"
      ]
     },
     "execution_count": 10,
     "metadata": {},
     "output_type": "execute_result"
    }
   ],
   "source": [
    "len(doc_class_name) == len(doc_cls_color)"
   ]
  },
  {
   "cell_type": "code",
   "execution_count": 12,
   "id": "1d3bca2c",
   "metadata": {},
   "outputs": [],
   "source": [
    "# Open a file and use dump()\n",
    "with open('prima_cls.pkl', 'wb') as file:\n",
    "    pickle.dump(doc_class_name, file)"
   ]
  },
  {
   "cell_type": "code",
   "execution_count": 13,
   "id": "6e11aeba",
   "metadata": {},
   "outputs": [],
   "source": [
    "# Open a file and use dump()\n",
    "with open('gen_cls_color.pkl', 'wb') as file:\n",
    "    pickle.dump(doc_cls_color, file)"
   ]
  },
  {
   "cell_type": "code",
   "execution_count": null,
   "id": "6a0052d7",
   "metadata": {},
   "outputs": [],
   "source": []
  }
 ],
 "metadata": {
  "kernelspec": {
   "display_name": "Python 3 (ipykernel)",
   "language": "python",
   "name": "python3"
  },
  "language_info": {
   "codemirror_mode": {
    "name": "ipython",
    "version": 3
   },
   "file_extension": ".py",
   "mimetype": "text/x-python",
   "name": "python",
   "nbconvert_exporter": "python",
   "pygments_lexer": "ipython3",
   "version": "3.9.12"
  }
 },
 "nbformat": 4,
 "nbformat_minor": 5
}
